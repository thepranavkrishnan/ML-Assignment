{
  "nbformat": 4,
  "nbformat_minor": 0,
  "metadata": {
    "colab": {
      "provenance": []
    },
    "kernelspec": {
      "name": "python3",
      "display_name": "Python 3"
    },
    "language_info": {
      "name": "python"
    }
  },
  "cells": [
    {
      "cell_type": "code",
      "execution_count": null,
      "metadata": {
        "colab": {
          "base_uri": "https://localhost:8080/",
          "height": 73
        },
        "id": "KZbppLKCKyWK",
        "outputId": "ffee16fa-2007-43b3-dbf4-73da63d85efe"
      },
      "outputs": [
        {
          "output_type": "display_data",
          "data": {
            "text/plain": [
              "<IPython.core.display.HTML object>"
            ],
            "text/html": [
              "\n",
              "     <input type=\"file\" id=\"files-f348ab3e-95dd-43db-8f24-d04e5421e381\" name=\"files[]\" multiple disabled\n",
              "        style=\"border:none\" />\n",
              "     <output id=\"result-f348ab3e-95dd-43db-8f24-d04e5421e381\">\n",
              "      Upload widget is only available when the cell has been executed in the\n",
              "      current browser session. Please rerun this cell to enable.\n",
              "      </output>\n",
              "      <script>// Copyright 2017 Google LLC\n",
              "//\n",
              "// Licensed under the Apache License, Version 2.0 (the \"License\");\n",
              "// you may not use this file except in compliance with the License.\n",
              "// You may obtain a copy of the License at\n",
              "//\n",
              "//      http://www.apache.org/licenses/LICENSE-2.0\n",
              "//\n",
              "// Unless required by applicable law or agreed to in writing, software\n",
              "// distributed under the License is distributed on an \"AS IS\" BASIS,\n",
              "// WITHOUT WARRANTIES OR CONDITIONS OF ANY KIND, either express or implied.\n",
              "// See the License for the specific language governing permissions and\n",
              "// limitations under the License.\n",
              "\n",
              "/**\n",
              " * @fileoverview Helpers for google.colab Python module.\n",
              " */\n",
              "(function(scope) {\n",
              "function span(text, styleAttributes = {}) {\n",
              "  const element = document.createElement('span');\n",
              "  element.textContent = text;\n",
              "  for (const key of Object.keys(styleAttributes)) {\n",
              "    element.style[key] = styleAttributes[key];\n",
              "  }\n",
              "  return element;\n",
              "}\n",
              "\n",
              "// Max number of bytes which will be uploaded at a time.\n",
              "const MAX_PAYLOAD_SIZE = 100 * 1024;\n",
              "\n",
              "function _uploadFiles(inputId, outputId) {\n",
              "  const steps = uploadFilesStep(inputId, outputId);\n",
              "  const outputElement = document.getElementById(outputId);\n",
              "  // Cache steps on the outputElement to make it available for the next call\n",
              "  // to uploadFilesContinue from Python.\n",
              "  outputElement.steps = steps;\n",
              "\n",
              "  return _uploadFilesContinue(outputId);\n",
              "}\n",
              "\n",
              "// This is roughly an async generator (not supported in the browser yet),\n",
              "// where there are multiple asynchronous steps and the Python side is going\n",
              "// to poll for completion of each step.\n",
              "// This uses a Promise to block the python side on completion of each step,\n",
              "// then passes the result of the previous step as the input to the next step.\n",
              "function _uploadFilesContinue(outputId) {\n",
              "  const outputElement = document.getElementById(outputId);\n",
              "  const steps = outputElement.steps;\n",
              "\n",
              "  const next = steps.next(outputElement.lastPromiseValue);\n",
              "  return Promise.resolve(next.value.promise).then((value) => {\n",
              "    // Cache the last promise value to make it available to the next\n",
              "    // step of the generator.\n",
              "    outputElement.lastPromiseValue = value;\n",
              "    return next.value.response;\n",
              "  });\n",
              "}\n",
              "\n",
              "/**\n",
              " * Generator function which is called between each async step of the upload\n",
              " * process.\n",
              " * @param {string} inputId Element ID of the input file picker element.\n",
              " * @param {string} outputId Element ID of the output display.\n",
              " * @return {!Iterable<!Object>} Iterable of next steps.\n",
              " */\n",
              "function* uploadFilesStep(inputId, outputId) {\n",
              "  const inputElement = document.getElementById(inputId);\n",
              "  inputElement.disabled = false;\n",
              "\n",
              "  const outputElement = document.getElementById(outputId);\n",
              "  outputElement.innerHTML = '';\n",
              "\n",
              "  const pickedPromise = new Promise((resolve) => {\n",
              "    inputElement.addEventListener('change', (e) => {\n",
              "      resolve(e.target.files);\n",
              "    });\n",
              "  });\n",
              "\n",
              "  const cancel = document.createElement('button');\n",
              "  inputElement.parentElement.appendChild(cancel);\n",
              "  cancel.textContent = 'Cancel upload';\n",
              "  const cancelPromise = new Promise((resolve) => {\n",
              "    cancel.onclick = () => {\n",
              "      resolve(null);\n",
              "    };\n",
              "  });\n",
              "\n",
              "  // Wait for the user to pick the files.\n",
              "  const files = yield {\n",
              "    promise: Promise.race([pickedPromise, cancelPromise]),\n",
              "    response: {\n",
              "      action: 'starting',\n",
              "    }\n",
              "  };\n",
              "\n",
              "  cancel.remove();\n",
              "\n",
              "  // Disable the input element since further picks are not allowed.\n",
              "  inputElement.disabled = true;\n",
              "\n",
              "  if (!files) {\n",
              "    return {\n",
              "      response: {\n",
              "        action: 'complete',\n",
              "      }\n",
              "    };\n",
              "  }\n",
              "\n",
              "  for (const file of files) {\n",
              "    const li = document.createElement('li');\n",
              "    li.append(span(file.name, {fontWeight: 'bold'}));\n",
              "    li.append(span(\n",
              "        `(${file.type || 'n/a'}) - ${file.size} bytes, ` +\n",
              "        `last modified: ${\n",
              "            file.lastModifiedDate ? file.lastModifiedDate.toLocaleDateString() :\n",
              "                                    'n/a'} - `));\n",
              "    const percent = span('0% done');\n",
              "    li.appendChild(percent);\n",
              "\n",
              "    outputElement.appendChild(li);\n",
              "\n",
              "    const fileDataPromise = new Promise((resolve) => {\n",
              "      const reader = new FileReader();\n",
              "      reader.onload = (e) => {\n",
              "        resolve(e.target.result);\n",
              "      };\n",
              "      reader.readAsArrayBuffer(file);\n",
              "    });\n",
              "    // Wait for the data to be ready.\n",
              "    let fileData = yield {\n",
              "      promise: fileDataPromise,\n",
              "      response: {\n",
              "        action: 'continue',\n",
              "      }\n",
              "    };\n",
              "\n",
              "    // Use a chunked sending to avoid message size limits. See b/62115660.\n",
              "    let position = 0;\n",
              "    do {\n",
              "      const length = Math.min(fileData.byteLength - position, MAX_PAYLOAD_SIZE);\n",
              "      const chunk = new Uint8Array(fileData, position, length);\n",
              "      position += length;\n",
              "\n",
              "      const base64 = btoa(String.fromCharCode.apply(null, chunk));\n",
              "      yield {\n",
              "        response: {\n",
              "          action: 'append',\n",
              "          file: file.name,\n",
              "          data: base64,\n",
              "        },\n",
              "      };\n",
              "\n",
              "      let percentDone = fileData.byteLength === 0 ?\n",
              "          100 :\n",
              "          Math.round((position / fileData.byteLength) * 100);\n",
              "      percent.textContent = `${percentDone}% done`;\n",
              "\n",
              "    } while (position < fileData.byteLength);\n",
              "  }\n",
              "\n",
              "  // All done.\n",
              "  yield {\n",
              "    response: {\n",
              "      action: 'complete',\n",
              "    }\n",
              "  };\n",
              "}\n",
              "\n",
              "scope.google = scope.google || {};\n",
              "scope.google.colab = scope.google.colab || {};\n",
              "scope.google.colab._files = {\n",
              "  _uploadFiles,\n",
              "  _uploadFilesContinue,\n",
              "};\n",
              "})(self);\n",
              "</script> "
            ]
          },
          "metadata": {}
        },
        {
          "output_type": "stream",
          "name": "stdout",
          "text": [
            "Saving Lab Session1 Data.xlsx to Lab Session1 Data.xlsx\n"
          ]
        }
      ],
      "source": [
        "from google.colab import files\n",
        "\n",
        "uploaded = files.upload()\n"
      ]
    },
    {
      "cell_type": "code",
      "source": [
        "from google.colab import drive\n",
        "drive.mount('/content/drive')"
      ],
      "metadata": {
        "id": "IFkbcwvgadce",
        "outputId": "d55c58f0-32ac-4772-efa5-3179819a56a9",
        "colab": {
          "base_uri": "https://localhost:8080/"
        }
      },
      "execution_count": null,
      "outputs": [
        {
          "output_type": "stream",
          "name": "stdout",
          "text": [
            "Mounted at /content/drive\n"
          ]
        }
      ]
    },
    {
      "cell_type": "code",
      "source": [
        "import pandas as pd\n",
        "\n",
        "excel_file = \"Lab Session1 Data.xlsx\"\n",
        "sheet_name = \"IRCTC Stock Price\"\n",
        "column_name = \"Price\"\n",
        "df = pd.read_excel(excel_file, sheet_name=sheet_name)\n",
        "\n",
        "mean_value = df[column_name].mean()\n",
        "variance_value = df[column_name].var()\n",
        "\n",
        "print(f\"Mean of {column_name}: {mean_value}\")\n",
        "print(f\"Variance of {column_name}: {variance_value}\")\n"
      ],
      "metadata": {
        "colab": {
          "base_uri": "https://localhost:8080/"
        },
        "id": "umbknJU7VH_4",
        "outputId": "12f4e0e3-e659-4130-f826-4699915774c0"
      },
      "execution_count": null,
      "outputs": [
        {
          "output_type": "stream",
          "name": "stdout",
          "text": [
            "Mean of Price: 1560.6634538152612\n",
            "Variance of Price: 58732.36535253918\n"
          ]
        }
      ]
    },
    {
      "cell_type": "code",
      "source": [
        "import pandas as pd\n",
        "\n",
        "excel_file = \"Lab Session1 Data.xlsx\"\n",
        "sheet_name = \"IRCTC Stock Price\"\n",
        "df = pd.read_excel(excel_file, sheet_name=sheet_name)\n",
        "\n",
        "condition_column = \"Day\"\n",
        "target_value = \"Wed\"\n",
        "\n",
        "filtered_df = df[df[condition_column] == target_value]\n",
        "\n",
        "column_to_calculate_mean = \"Price\"\n",
        "mean_value = filtered_df[column_to_calculate_mean].mean()\n",
        "\n",
        "print(f\"Mean of {column_to_calculate_mean} when {condition_column} is {target_value}: {mean_value}\")\n"
      ],
      "metadata": {
        "colab": {
          "base_uri": "https://localhost:8080/"
        },
        "id": "uTrSPdZdWUTM",
        "outputId": "829cfc25-f3ac-46f1-e083-3dc390d4f3ce"
      },
      "execution_count": null,
      "outputs": [
        {
          "output_type": "stream",
          "name": "stdout",
          "text": [
            "Mean of Price when Day is Wed: 1550.7060000000001\n"
          ]
        }
      ]
    },
    {
      "cell_type": "code",
      "source": [
        "import pandas as pd\n",
        "\n",
        "excel_file = \"Lab Session1 Data.xlsx\"\n",
        "sheet_name = \"IRCTC Stock Price\"\n",
        "df = pd.read_excel(excel_file, sheet_name=sheet_name)\n",
        "\n",
        "condition_column = \"Month\"\n",
        "target_value = \"Apr\"\n",
        "\n",
        "filtered_df = df[df[condition_column] == target_value]\n",
        "\n",
        "column_to_calculate_mean = \"Price\"\n",
        "mean_value = filtered_df[column_to_calculate_mean].mean()\n",
        "\n",
        "print(f\"Mean of {column_to_calculate_mean} when {condition_column} is {target_value}: {mean_value}\")"
      ],
      "metadata": {
        "colab": {
          "base_uri": "https://localhost:8080/"
        },
        "id": "vTm2Po8VYJsV",
        "outputId": "24aa5e02-8686-45ae-ca35-85d6fdbe5158"
      },
      "execution_count": null,
      "outputs": [
        {
          "output_type": "stream",
          "name": "stdout",
          "text": [
            "Mean of Price when Month is Apr: 1698.9526315789474\n"
          ]
        }
      ]
    },
    {
      "cell_type": "code",
      "source": [
        "import pandas as pd\n",
        "excel_file = \"Lab Session1 Data.xlsx\"\n",
        "sheet_name = \"IRCTC Stock Price\"\n",
        "df = pd.read_excel(excel_file, sheet_name=sheet_name)\n",
        "price_changes = df[\"Chg%\"]\n",
        "probability_profit = (price_changes > 0).sum() / len(price_changes)\n",
        "probability_loss = (price_changes < 0).sum() / len(price_changes)\n",
        "\n",
        "print(f\"Probability of Profit: {probability_profit:.2%}\")\n",
        "print(f\"Probability of Loss: {probability_loss:.2%}\")\n",
        "print((price_changes > 0).sum())\n",
        "print((price_changes < 0).sum())\n"
      ],
      "metadata": {
        "colab": {
          "base_uri": "https://localhost:8080/"
        },
        "id": "VwKpf_QNY1sL",
        "outputId": "8b59ddc9-6ff9-4cd1-ad65-a1feec2d0f9e"
      },
      "execution_count": null,
      "outputs": [
        {
          "output_type": "stream",
          "name": "stdout",
          "text": [
            "Probability of Profit: 49.80%\n",
            "Probability of Loss: 49.80%\n",
            "124\n",
            "124\n",
            "1\n"
          ]
        }
      ]
    },
    {
      "cell_type": "code",
      "source": [
        "import pandas as pd\n",
        "excel_file = \"Lab Session1 Data.xlsx\"\n",
        "sheet_name = \"IRCTC Stock Price\"\n",
        "df = pd.read_excel(excel_file, sheet_name=sheet_name)\n",
        "\n",
        "day_column = df[\"Day\"]\n",
        "price_changes = df[\"Chg%\"]\n",
        "\n",
        "target_day = \"Wed\"\n",
        "\n",
        "target_day_df = df[df[\"Day\"] == target_day]\n",
        "\n",
        "probability_profit_on_target_day = (target_day_df[\"Chg%\"] > 0).sum() / len(target_day_df)\n",
        "\n",
        "print(f\"Probability of Profit on {target_day}: {probability_profit_on_target_day:.2%}\")\n",
        "print((target_day_df[\"Chg%\"] > 0).sum())\n",
        "print((target_day_df[\"Chg%\"] < 0).sum())"
      ],
      "metadata": {
        "colab": {
          "base_uri": "https://localhost:8080/"
        },
        "id": "2UTgtPLNahYo",
        "outputId": "96a86b18-d29f-4f1d-a1e3-0fc4d075408b"
      },
      "execution_count": null,
      "outputs": [
        {
          "output_type": "stream",
          "name": "stdout",
          "text": [
            "Probability of Profit on Wed: 42.00%\n",
            "21\n",
            "29\n"
          ]
        }
      ]
    },
    {
      "cell_type": "code",
      "source": [
        "import pandas as pd\n",
        "excel_file = \"Lab Session1 Data.xlsx\"\n",
        "sheet_name = \"IRCTC Stock Price\"\n",
        "df = pd.read_excel(excel_file, sheet_name=sheet_name)\n",
        "\n",
        "target_day = \"Wed\"\n",
        "\n",
        "target_day_df = df[df[\"Day\"] == target_day]\n",
        "\n",
        "probability_profit_on_target_day = (target_day_df[\"Chg%\"] > 0).sum() / len(target_day_df)\n",
        "\n",
        "probability_target_day = len(target_day_df) / len(df)\n",
        "\n",
        "conditional_probability = (probability_profit_on_target_day/100) / probability_target_day\n",
        "\n",
        "print(f\"Conditional Probability (Profit | {target_day}): {conditional_probability:.2%}\")\n"
      ],
      "metadata": {
        "colab": {
          "base_uri": "https://localhost:8080/"
        },
        "id": "9MH-A42BbxJN",
        "outputId": "b248412b-9727-4893-bb67-3c6561d27762"
      },
      "execution_count": null,
      "outputs": [
        {
          "output_type": "stream",
          "name": "stdout",
          "text": [
            "0.20080321285140562\n",
            "Conditional Probability (Profit | Wed): 2.09%\n"
          ]
        }
      ]
    },
    {
      "cell_type": "code",
      "source": [
        "import pandas as pd\n",
        "import matplotlib.pyplot as plt\n",
        "excel_file = \"Lab Session1 Data.xlsx\"\n",
        "sheet_name = \"IRCTC Stock Price\"\n",
        "df = pd.read_excel(excel_file, sheet_name=sheet_name)\n",
        "\n",
        "target_day = \"Wed\"\n",
        "\n",
        "target_day_df = df[df[\"Day\"] == target_day]\n",
        "\n",
        "plt.figure(figsize=(10, 6))\n",
        "plt.scatter(target_day_df[\"Day\"], target_day_df[\"Chg%\"], alpha=0.5)\n",
        "plt.title(f\"Price Change on {target_day}\")\n",
        "plt.xlabel(\"Day\")\n",
        "plt.ylabel(\"Price Change\")\n",
        "plt.grid(True)\n",
        "plt.show()\n"
      ],
      "metadata": {
        "colab": {
          "base_uri": "https://localhost:8080/",
          "height": 564
        },
        "id": "8kEiuNisdcg1",
        "outputId": "f9d19521-cd43-4f88-b704-531a52b3e95b"
      },
      "execution_count": null,
      "outputs": [
        {
          "output_type": "display_data",
          "data": {
            "text/plain": [
              "<Figure size 1000x600 with 1 Axes>"
            ],
            "image/png": "[encoded data removed]"
          },
          "metadata": {}
        }
      ]
    },
    {
      "cell_type": "code",
      "source": [
        "import pandas as pd\n",
        "import numpy as np\n",
        "\n",
        "excel_file = \"Lab Session1 Data.xlsx\"\n",
        "df = pd.read_excel(excel_file, sheet_name=\"Purchase data\")\n",
        "selected_data = df.loc[0:12, [\"Customer\", \"Candies (#)\",\"Mangoes (Kg)\",\"Milk Packets (#)\",\"Payment (Rs)\"]]\n",
        "print(selected_data)\n"
      ],
      "metadata": {
        "colab": {
          "base_uri": "https://localhost:8080/"
        },
        "id": "poJvfg7hL-is",
        "outputId": "473a1c88-3c7e-4417-aab6-6411ef0a87f7"
      },
      "execution_count": null,
      "outputs": [
        {
          "output_type": "stream",
          "name": "stdout",
          "text": [
            "  Customer  Candies (#)  Mangoes (Kg)  Milk Packets (#)  Payment (Rs)\n",
            "0      C_1           20             6                 2           386\n",
            "1      C_2           16             3                 6           289\n",
            "2      C_3           27             6                 2           393\n",
            "3      C_4           19             1                 2           110\n",
            "4      C_5           24             4                 2           280\n",
            "5      C_6           22             1                 5           167\n",
            "6      C_7           15             4                 2           271\n",
            "7      C_8           18             4                 2           274\n",
            "8      C_9           21             1                 4           148\n",
            "9     C_10           16             2                 4           198\n"
          ]
        }
      ]
    },
    {
      "cell_type": "code",
      "source": [
        "import pandas as pd\n",
        "import numpy as np\n",
        "\n",
        "\n",
        "excel_file = \"Lab Session1 Data.xlsx\"\n",
        "sheet_name = \"Purchase data\"\n",
        "df = pd.read_excel(excel_file, sheet_name=sheet_name)\n",
        "selected_data = df.loc[0:10, [\"Customer\", \"Candies (#)\",\"Mangoes (Kg)\",\"Milk Packets (#)\",\"Payment (Rs)\"]]\n",
        "num_vectors = df.shape[0]\n",
        "print(\"Number of Vectors (Rows):\", num_vectors)\n",
        "num_vectors = selected_data.shape[1]\n",
        "print(\"Number of Vectors (Columns):\", num_vectors)\n",
        "column_names = [\"Payment (Rs)\"]\n",
        "arrays = [df[column].to_numpy() for column in column_names]\n",
        "\n",
        "for column_name, array in zip(column_names, arrays):\n",
        "    print(f\"{column_name} array:\")\n",
        "    print(array)\n",
        "\n",
        "selected_columns = [\"Candies (#)\", \"Mangoes (Kg)\", \"Milk Packets (#)\"]\n",
        "selected_data = df[selected_columns]\n",
        "\n",
        "arrays = [list(row) for index, row in selected_data.iterrows()]\n",
        "\n",
        "larger_array = arrays\n",
        "my_array = np.array(larger_array)\n",
        "print(\"Larger Array:\")\n",
        "print(larger_array)\n",
        "rank = np.linalg.matrix_rank(my_array)\n",
        "print(\"Rank of A:\", rank)\n",
        "\n",
        "Quantity = my_array\n",
        "\n",
        "Cost = array\n",
        "\n",
        "inverse_quantity = np.linalg.pinv(Quantity)\n",
        "\n",
        "Price = np.dot(inverse_quantity, Cost)\n",
        "\n",
        "print(\"Price vector:\")\n",
        "print(Price)\n",
        "print(\"Vextor X:\",inverse_quantity)\n"
      ],
      "metadata": {
        "colab": {
          "base_uri": "https://localhost:8080/"
        },
        "id": "8AKHJmrjRElK",
        "outputId": "8fb899d4-3dd7-460e-c786-16ca425f2dfb"
      },
      "execution_count": null,
      "outputs": [
        {
          "output_type": "stream",
          "name": "stdout",
          "text": [
            "Number of Vectors (Rows): 10\n",
            "Number of Vectors (Columns): 5\n",
            "Payment (Rs) array:\n",
            "[386 289 393 110 280 167 271 274 148 198]\n",
            "Larger Array:\n",
            "[[20, 6, 2], [16, 3, 6], [27, 6, 2], [19, 1, 2], [24, 4, 2], [22, 1, 5], [15, 4, 2], [18, 4, 2], [21, 1, 4], [16, 2, 4]]\n",
            "Rank of A: 3\n",
            "Price vector:\n",
            "[ 1. 55. 18.]\n",
            "Vextor X: [[-0.01008596 -0.03124505  0.01013951  0.0290728   0.0182907   0.01161794\n",
            "  -0.00771348  0.00095458  0.01743623 -0.00542016]\n",
            " [ 0.09059668  0.07263726  0.03172933 -0.09071908 -0.01893196 -0.06926996\n",
            "   0.05675464  0.03152577 -0.07641966  0.00357352]\n",
            " [ 0.00299878  0.15874243 -0.05795468 -0.06609024 -0.06295043  0.03348017\n",
            "   0.01541831 -0.01070461  0.00029003  0.05938755]]\n"
          ]
        }
      ]
    },
    {
      "cell_type": "code",
      "source": [],
      "metadata": {
        "id": "CyfLuncoVZ3r"
      },
      "execution_count": null,
      "outputs": []
    },
    {
      "cell_type": "code",
      "source": [
        "import pandas as pd\n",
        "\n",
        "\n",
        "excel_file = \"Lab Session1 Data.xlsx\"\n",
        "sheet_name = \"Purchase data\"\n",
        "df = pd.read_excel(excel_file, sheet_name=sheet_name)\n",
        "column_names = [\"Payment (Rs)\"]\n",
        "arrays = [df[column].to_numpy() for column in column_names]\n",
        "\n",
        "# Print the arrays\n",
        "for column_name, array in zip(column_names, arrays):\n",
        "    print(f\"{column_name} array:\")\n",
        "    print(array)\n"
      ],
      "metadata": {
        "colab": {
          "base_uri": "https://localhost:8080/"
        },
        "id": "LoCZqIY0SLbD",
        "outputId": "6ef4c9f4-ae75-485f-d518-b8b9f3e83bd6"
      },
      "execution_count": null,
      "outputs": [
        {
          "output_type": "stream",
          "name": "stdout",
          "text": [
            "Payment (Rs) array:\n",
            "[386 289 393 110 280 167 271 274 148 198]\n",
            "10\n"
          ]
        }
      ]
    },
    {
      "cell_type": "code",
      "source": [
        "import pandas as pd\n",
        "\n",
        "excel_file = \"Lab Session1 Data.xlsx\"\n",
        "sheet_name = \"Purchase data\"\n",
        "df = pd.read_excel(excel_file, sheet_name=sheet_name)\n",
        "\n",
        "threshold = 200\n",
        "\n",
        "df['CustomerType'] = 'POOR'\n",
        "df.loc[df['Payment (Rs)'] > threshold, 'CustomerType'] = 'RICH'\n",
        "\n",
        "df.to_excel(\"updated_data.xlsx\", index=False)\n"
      ],
      "metadata": {
        "id": "WTSscA1jdFjt"
      },
      "execution_count": null,
      "outputs": []
    }
  ]
}